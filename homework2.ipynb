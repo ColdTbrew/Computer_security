{
 "cells": [
  {
   "cell_type": "code",
   "execution_count": 1,
   "metadata": {},
   "outputs": [],
   "source": [
    "\"\"\" 과제 2 \"\"\"\n",
    "#  a, b 를 입력받아서 a * x + b * y = gcd(a, b) 를 만족하는 x, y, gcd(a, b) 를 출력하는 프로그램을 작성하시오.\n",
    "def extended_euclid(a, b):\n",
    "    if a == b:\n",
    "        return (1, 0, a)\n",
    "    elif b == 0:\n",
    "        return (1, 0, a)\n",
    "    else:\n",
    "        x_1 = 1\n",
    "        y_1 = 0\n",
    "        r_1 = a\n",
    "        x_2 = 0\n",
    "        y_2 = 1\n",
    "        r_2 = b\n",
    "    while r_2 != 0:\n",
    "        q = r_1 // r_2\n",
    "\n",
    "        #r = r_1 % r_2\n",
    "        r = r_1 - q * r_2\n",
    "        x = x_1 - q * x_2\n",
    "        y = y_1 - q * y_2\n",
    "\n",
    "        x_1 = x_2\n",
    "        y_1 = y_2\n",
    "        r_1 = r_2\n",
    "\n",
    "        x_2 = x\n",
    "        y_2 = y\n",
    "        r_2 = r\n",
    "\n",
    "    return (x_1, y_1, r_1)\n",
    "    "
   ]
  },
  {
   "cell_type": "code",
   "execution_count": 2,
   "metadata": {},
   "outputs": [
    {
     "name": "stdout",
     "output_type": "stream",
     "text": [
      "(355, -111, 1)\n",
      "(7, -16, 10)\n",
      "355\n"
     ]
    }
   ],
   "source": [
    "# x = a^-1 mod n\n",
    "# a * x mod n = 1\n",
    "\n",
    "def m_inv(a, n):\n",
    "    x, y, d = extended_euclid(n, a%n)\n",
    "    if d!= 1:\n",
    "        print(\"No multiplicative inverse\")\n",
    "        return\n",
    "    else:\n",
    "        return y%n\n",
    "    \n",
    "print(extended_euclid(550, 1759))\n",
    "print(extended_euclid(710, 310))\n",
    "print(m_inv(550, 1759))"
   ]
  },
  {
   "cell_type": "code",
   "execution_count": 3,
   "metadata": {},
   "outputs": [
    {
     "name": "stdout",
     "output_type": "stream",
     "text": [
      "(7, -16, 10)\n",
      "(1, 0, 8)\n",
      "(0, 1, 10)\n",
      "(18636, -862438392299326653863063146447, 1)\n",
      "(-111, 355, 1)\n"
     ]
    }
   ],
   "source": [
    "print(extended_euclid(710, 310))\n",
    "print(extended_euclid(8, 0))\n",
    "print(extended_euclid(300, 10))\n",
    "print(extended_euclid(2000000000000000000000000000000, 43217))\n",
    "print(extended_euclid(1759, 550))"
   ]
  },
  {
   "cell_type": "code",
   "execution_count": 5,
   "metadata": {},
   "outputs": [
    {
     "data": {
      "text/plain": [
       "355"
      ]
     },
     "execution_count": 5,
     "metadata": {},
     "output_type": "execute_result"
    }
   ],
   "source": [
    "pow(550, -1, 1759)"
   ]
  },
  {
   "cell_type": "code",
   "execution_count": null,
   "metadata": {},
   "outputs": [],
   "source": []
  }
 ],
 "metadata": {
  "kernelspec": {
   "display_name": "Python 3",
   "language": "python",
   "name": "python3"
  },
  "language_info": {
   "codemirror_mode": {
    "name": "ipython",
    "version": 3
   },
   "file_extension": ".py",
   "mimetype": "text/x-python",
   "name": "python",
   "nbconvert_exporter": "python",
   "pygments_lexer": "ipython3",
   "version": "3.9.6"
  }
 },
 "nbformat": 4,
 "nbformat_minor": 2
}
